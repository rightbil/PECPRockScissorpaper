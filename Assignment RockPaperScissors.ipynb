{
 "cells": [
  {
   "cell_type": "code",
   "execution_count": null,
   "id": "8bd471a3",
   "metadata": {},
   "outputs": [],
   "source": [
    "Create a program where the user can play a game of rock, paper, \n",
    "scissors against a computer. Set a play choice (rock, paper, or scissors) \n",
    "for the computer player and during the program, request for the user to input their play choice.\n",
    "\n",
    "The rules in Rock, Paper, Scissors are:\n",
    "\n",
    "Rock beats scissors\n",
    "Scissors beats paper\n",
    "Paper beats rock\n",
    "If the user wins, then display \"You win!\" If they lose against the computer, \n",
    "then display \"You lose.\" If the computer and the user have the same play choice, display \"It's a draw.\"\n",
    "\n",
    "BONUS: Randomize the play choice for the computer (hint: Python has a library called random). \n",
    "Also ask the user if they would like to play again. If they do, start the game again but if not, \n",
    "thank the user for playing the game."
   ]
  },
  {
   "cell_type": "code",
   "execution_count": null,
   "id": "165bdaed",
   "metadata": {},
   "outputs": [],
   "source": [
    "#I- user inputs rock or paper or scissors one at a time\n",
    "#P- will compaire with the computer generated value and decide based on the rule of the game\n",
    "#O based on the evaluation , program tells if it is a draw or win or lose.\n",
    "import random as r\n",
    "from datetime import date\n",
    "#import datetime as date\n",
    "#continue_playing = True\n",
    "#while (continue_playing):\n",
    "    print(\"Type Your Chose : \\n Rock \\n Scissors \\n Paper\")\n",
    "    print(\"----------- Game Loading ------------------\")\n",
    "    user_choise= input(\">>>\").lower()\n",
    "    pool=['rock','scissors','paper']\n",
    "    computer_choise= r.choice(pool)\n",
    "    if user_choise not in pool:\n",
    "        print(f\"{user_choise} is not in the pool\")\n",
    "    else:\n",
    "        if user_choise==computer_choise:\n",
    "            print(\"It's a draw\")\n",
    "        else:\n",
    "            if user_choise == \"rock\" and computer_choise == \"scissors\" or user_choise==\"scissors\" and  computer_choise== \"paper\"        or user_choise==\"paper\" and  computer_choise==\"rock\":\n",
    "                print(\"You win!\")\n",
    "            else:\n",
    "                print(\"You lose\")\n",
    " #continue_playing= input(\"Continue playing True/ False?>>>\")\n",
    "\n",
    "print(\"Thanks for playing\", date.today())\n",
    "\n",
    "\n"
   ]
  }
 ],
 "metadata": {
  "kernelspec": {
   "display_name": "Python 3",
   "language": "python",
   "name": "python3"
  },
  "language_info": {
   "codemirror_mode": {
    "name": "ipython",
    "version": 3
   },
   "file_extension": ".py",
   "mimetype": "text/x-python",
   "name": "python",
   "nbconvert_exporter": "python",
   "pygments_lexer": "ipython3",
   "version": "3.8.8"
  }
 },
 "nbformat": 4,
 "nbformat_minor": 5
}
